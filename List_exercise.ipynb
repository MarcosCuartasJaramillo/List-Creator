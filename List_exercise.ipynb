{
  "nbformat": 4,
  "nbformat_minor": 0,
  "metadata": {
    "colab": {
      "provenance": [],
      "authorship_tag": "ABX9TyOsGAVCDOxf6RmcjbqTv2w/",
      "include_colab_link": true
    },
    "kernelspec": {
      "name": "python3",
      "display_name": "Python 3"
    },
    "language_info": {
      "name": "python"
    }
  },
  "cells": [
    {
      "cell_type": "markdown",
      "metadata": {
        "id": "view-in-github",
        "colab_type": "text"
      },
      "source": [
        "<a href=\"https://colab.research.google.com/github/MarcosCuartasJaramillo/List-exercise/blob/main/List_exercise.ipynb\" target=\"_parent\"><img src=\"https://colab.research.google.com/assets/colab-badge.svg\" alt=\"Open In Colab\"/></a>"
      ]
    },
    {
      "cell_type": "code",
      "execution_count": 19,
      "metadata": {
        "colab": {
          "base_uri": "https://localhost:8080/"
        },
        "id": "3CjPVWQ-z6VY",
        "outputId": "b0af7e60-30ff-4111-917a-f3c62bfe4617"
      },
      "outputs": [
        {
          "output_type": "stream",
          "name": "stdout",
          "text": [
            "Enter a value: 1\n",
            "[1]\n",
            "Enter a new value: 0\n",
            "List broken\n"
          ]
        }
      ],
      "source": [
        "L=[]\n",
        "number=int(input('Enter a value: '))\n",
        "while number != 0:\n",
        "  L.append(number)\n",
        "  print(L)\n",
        "  number=int(input('Enter a new value: '))\n",
        "else:\n",
        "  print('List broken')\n",
        "\n"
      ]
    }
  ]
}